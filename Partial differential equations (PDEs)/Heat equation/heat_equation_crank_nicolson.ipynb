{
  "nbformat": 4,
  "nbformat_minor": 0,
  "metadata": {
    "colab": {
      "provenance": []
    },
    "kernelspec": {
      "name": "python3",
      "display_name": "Python 3"
    },
    "language_info": {
      "name": "python"
    },
    "widgets": {
      "application/vnd.jupyter.widget-state+json": {
        "51295d5d2e1242ad826fe1b50ac984cb": {
          "model_module": "@jupyter-widgets/controls",
          "model_name": "HBoxModel",
          "model_module_version": "1.5.0",
          "state": {
            "_dom_classes": [],
            "_model_module": "@jupyter-widgets/controls",
            "_model_module_version": "1.5.0",
            "_model_name": "HBoxModel",
            "_view_count": null,
            "_view_module": "@jupyter-widgets/controls",
            "_view_module_version": "1.5.0",
            "_view_name": "HBoxView",
            "box_style": "",
            "children": [
              "IPY_MODEL_75090acabf9b408da032a8877df7f3a1",
              "IPY_MODEL_99db49aaa709406eb98b01cf524d0899",
              "IPY_MODEL_4db860fb6937404f9a69c677f5f496b3"
            ],
            "layout": "IPY_MODEL_3803f4f08d694e67bfbf5708e11f0744"
          }
        },
        "75090acabf9b408da032a8877df7f3a1": {
          "model_module": "@jupyter-widgets/controls",
          "model_name": "HTMLModel",
          "model_module_version": "1.5.0",
          "state": {
            "_dom_classes": [],
            "_model_module": "@jupyter-widgets/controls",
            "_model_module_version": "1.5.0",
            "_model_name": "HTMLModel",
            "_view_count": null,
            "_view_module": "@jupyter-widgets/controls",
            "_view_module_version": "1.5.0",
            "_view_name": "HTMLView",
            "description": "",
            "description_tooltip": null,
            "layout": "IPY_MODEL_df755f5c0f7a41feac20a3441936b052",
            "placeholder": "​",
            "style": "IPY_MODEL_159f274939db434685b7698669e0839a",
            "value": "100%"
          }
        },
        "99db49aaa709406eb98b01cf524d0899": {
          "model_module": "@jupyter-widgets/controls",
          "model_name": "FloatProgressModel",
          "model_module_version": "1.5.0",
          "state": {
            "_dom_classes": [],
            "_model_module": "@jupyter-widgets/controls",
            "_model_module_version": "1.5.0",
            "_model_name": "FloatProgressModel",
            "_view_count": null,
            "_view_module": "@jupyter-widgets/controls",
            "_view_module_version": "1.5.0",
            "_view_name": "ProgressView",
            "bar_style": "success",
            "description": "",
            "description_tooltip": null,
            "layout": "IPY_MODEL_ebc7337230dc4568b63b016534abc1f4",
            "max": 0.3,
            "min": 0,
            "orientation": "horizontal",
            "style": "IPY_MODEL_e6366e2df9b04223810656edeb3b05cd",
            "value": 0.3
          }
        },
        "4db860fb6937404f9a69c677f5f496b3": {
          "model_module": "@jupyter-widgets/controls",
          "model_name": "HTMLModel",
          "model_module_version": "1.5.0",
          "state": {
            "_dom_classes": [],
            "_model_module": "@jupyter-widgets/controls",
            "_model_module_version": "1.5.0",
            "_model_name": "HTMLModel",
            "_view_count": null,
            "_view_module": "@jupyter-widgets/controls",
            "_view_module_version": "1.5.0",
            "_view_name": "HTMLView",
            "description": "",
            "description_tooltip": null,
            "layout": "IPY_MODEL_890f0e02f9544d83bb2a5ddd2c08ff2e",
            "placeholder": "​",
            "style": "IPY_MODEL_46be8beb448246bcabbe13e75cb0c218",
            "value": " 0.3/0.3 [00:03&lt;00:00, 12.94s/it]"
          }
        },
        "3803f4f08d694e67bfbf5708e11f0744": {
          "model_module": "@jupyter-widgets/base",
          "model_name": "LayoutModel",
          "model_module_version": "1.2.0",
          "state": {
            "_model_module": "@jupyter-widgets/base",
            "_model_module_version": "1.2.0",
            "_model_name": "LayoutModel",
            "_view_count": null,
            "_view_module": "@jupyter-widgets/base",
            "_view_module_version": "1.2.0",
            "_view_name": "LayoutView",
            "align_content": null,
            "align_items": null,
            "align_self": null,
            "border": null,
            "bottom": null,
            "display": null,
            "flex": null,
            "flex_flow": null,
            "grid_area": null,
            "grid_auto_columns": null,
            "grid_auto_flow": null,
            "grid_auto_rows": null,
            "grid_column": null,
            "grid_gap": null,
            "grid_row": null,
            "grid_template_areas": null,
            "grid_template_columns": null,
            "grid_template_rows": null,
            "height": null,
            "justify_content": null,
            "justify_items": null,
            "left": null,
            "margin": null,
            "max_height": null,
            "max_width": null,
            "min_height": null,
            "min_width": null,
            "object_fit": null,
            "object_position": null,
            "order": null,
            "overflow": null,
            "overflow_x": null,
            "overflow_y": null,
            "padding": null,
            "right": null,
            "top": null,
            "visibility": null,
            "width": null
          }
        },
        "df755f5c0f7a41feac20a3441936b052": {
          "model_module": "@jupyter-widgets/base",
          "model_name": "LayoutModel",
          "model_module_version": "1.2.0",
          "state": {
            "_model_module": "@jupyter-widgets/base",
            "_model_module_version": "1.2.0",
            "_model_name": "LayoutModel",
            "_view_count": null,
            "_view_module": "@jupyter-widgets/base",
            "_view_module_version": "1.2.0",
            "_view_name": "LayoutView",
            "align_content": null,
            "align_items": null,
            "align_self": null,
            "border": null,
            "bottom": null,
            "display": null,
            "flex": null,
            "flex_flow": null,
            "grid_area": null,
            "grid_auto_columns": null,
            "grid_auto_flow": null,
            "grid_auto_rows": null,
            "grid_column": null,
            "grid_gap": null,
            "grid_row": null,
            "grid_template_areas": null,
            "grid_template_columns": null,
            "grid_template_rows": null,
            "height": null,
            "justify_content": null,
            "justify_items": null,
            "left": null,
            "margin": null,
            "max_height": null,
            "max_width": null,
            "min_height": null,
            "min_width": null,
            "object_fit": null,
            "object_position": null,
            "order": null,
            "overflow": null,
            "overflow_x": null,
            "overflow_y": null,
            "padding": null,
            "right": null,
            "top": null,
            "visibility": null,
            "width": null
          }
        },
        "159f274939db434685b7698669e0839a": {
          "model_module": "@jupyter-widgets/controls",
          "model_name": "DescriptionStyleModel",
          "model_module_version": "1.5.0",
          "state": {
            "_model_module": "@jupyter-widgets/controls",
            "_model_module_version": "1.5.0",
            "_model_name": "DescriptionStyleModel",
            "_view_count": null,
            "_view_module": "@jupyter-widgets/base",
            "_view_module_version": "1.2.0",
            "_view_name": "StyleView",
            "description_width": ""
          }
        },
        "ebc7337230dc4568b63b016534abc1f4": {
          "model_module": "@jupyter-widgets/base",
          "model_name": "LayoutModel",
          "model_module_version": "1.2.0",
          "state": {
            "_model_module": "@jupyter-widgets/base",
            "_model_module_version": "1.2.0",
            "_model_name": "LayoutModel",
            "_view_count": null,
            "_view_module": "@jupyter-widgets/base",
            "_view_module_version": "1.2.0",
            "_view_name": "LayoutView",
            "align_content": null,
            "align_items": null,
            "align_self": null,
            "border": null,
            "bottom": null,
            "display": null,
            "flex": null,
            "flex_flow": null,
            "grid_area": null,
            "grid_auto_columns": null,
            "grid_auto_flow": null,
            "grid_auto_rows": null,
            "grid_column": null,
            "grid_gap": null,
            "grid_row": null,
            "grid_template_areas": null,
            "grid_template_columns": null,
            "grid_template_rows": null,
            "height": null,
            "justify_content": null,
            "justify_items": null,
            "left": null,
            "margin": null,
            "max_height": null,
            "max_width": null,
            "min_height": null,
            "min_width": null,
            "object_fit": null,
            "object_position": null,
            "order": null,
            "overflow": null,
            "overflow_x": null,
            "overflow_y": null,
            "padding": null,
            "right": null,
            "top": null,
            "visibility": null,
            "width": null
          }
        },
        "e6366e2df9b04223810656edeb3b05cd": {
          "model_module": "@jupyter-widgets/controls",
          "model_name": "ProgressStyleModel",
          "model_module_version": "1.5.0",
          "state": {
            "_model_module": "@jupyter-widgets/controls",
            "_model_module_version": "1.5.0",
            "_model_name": "ProgressStyleModel",
            "_view_count": null,
            "_view_module": "@jupyter-widgets/base",
            "_view_module_version": "1.2.0",
            "_view_name": "StyleView",
            "bar_color": null,
            "description_width": ""
          }
        },
        "890f0e02f9544d83bb2a5ddd2c08ff2e": {
          "model_module": "@jupyter-widgets/base",
          "model_name": "LayoutModel",
          "model_module_version": "1.2.0",
          "state": {
            "_model_module": "@jupyter-widgets/base",
            "_model_module_version": "1.2.0",
            "_model_name": "LayoutModel",
            "_view_count": null,
            "_view_module": "@jupyter-widgets/base",
            "_view_module_version": "1.2.0",
            "_view_name": "LayoutView",
            "align_content": null,
            "align_items": null,
            "align_self": null,
            "border": null,
            "bottom": null,
            "display": null,
            "flex": null,
            "flex_flow": null,
            "grid_area": null,
            "grid_auto_columns": null,
            "grid_auto_flow": null,
            "grid_auto_rows": null,
            "grid_column": null,
            "grid_gap": null,
            "grid_row": null,
            "grid_template_areas": null,
            "grid_template_columns": null,
            "grid_template_rows": null,
            "height": null,
            "justify_content": null,
            "justify_items": null,
            "left": null,
            "margin": null,
            "max_height": null,
            "max_width": null,
            "min_height": null,
            "min_width": null,
            "object_fit": null,
            "object_position": null,
            "order": null,
            "overflow": null,
            "overflow_x": null,
            "overflow_y": null,
            "padding": null,
            "right": null,
            "top": null,
            "visibility": null,
            "width": null
          }
        },
        "46be8beb448246bcabbe13e75cb0c218": {
          "model_module": "@jupyter-widgets/controls",
          "model_name": "DescriptionStyleModel",
          "model_module_version": "1.5.0",
          "state": {
            "_model_module": "@jupyter-widgets/controls",
            "_model_module_version": "1.5.0",
            "_model_name": "DescriptionStyleModel",
            "_view_count": null,
            "_view_module": "@jupyter-widgets/base",
            "_view_module_version": "1.2.0",
            "_view_name": "StyleView",
            "description_width": ""
          }
        }
      }
    }
  },
  "cells": [
    {
      "cell_type": "markdown",
      "source": [
        "# Heat equation: analytic vs Crank–Nicolson FD vs py-pde FD"
      ],
      "metadata": {
        "id": "fBGNujzFRdoW"
      }
    },
    {
      "cell_type": "code",
      "source": [
        "#   1) Final solution overlay (analytic, CN, py-pde)\n",
        "#   2) Pointwise error |CN - analytic|\n",
        "#   3) Pointwise error |py-pde - analytic|\n",
        "\n",
        "!pip install py-pde\n",
        "\n",
        "import numpy as np\n",
        "import matplotlib.pyplot as plt\n",
        "from scipy.integrate import trapezoid as _trapezoid\n",
        "from scipy.sparse import diags\n",
        "from scipy.sparse.linalg import splu\n",
        "from pde import DiffusionPDE, ScalarField, CartesianGrid\n",
        "from scipy.sparse.linalg import gmres\n",
        "\n",
        "\n",
        "def trapezoid(y, x, axis=-1):\n",
        "    if _trapezoid is not None:\n",
        "        return _trapezoid(y, x, axis=axis)\n",
        "    return np.trapz(y, x, axis=axis)\n",
        "\n",
        "\n",
        "# 1) Analytic via sine series\n",
        "def heat_analytic(u0_func, alpha=1.0, L=1.0, x=None, t=0.1, N=200):\n",
        "    if x is None:\n",
        "        x = np.linspace(0, L, 501)\n",
        "    xs = np.linspace(0, L, 20001)\n",
        "    f = u0_func(xs)\n",
        "    n = np.arange(1, N + 1)\n",
        "    S = np.sin(np.pi * np.outer(xs / L, n))\n",
        "    bn = (2.0 / L) * trapezoid(f[:, None] * S, xs, axis=0)\n",
        "    Sx = np.sin(np.pi * np.outer(x / L, n))\n",
        "    decay = np.exp(-alpha * (np.pi * n / L) ** 2 * t)\n",
        "    u = (Sx * (bn * decay)).sum(axis=1)\n",
        "    return x, u\n",
        "\n",
        "\n",
        "# 2) Finite Difference: Crank–Nicolson\n",
        "def heat1d_cn(u0_func, alpha=1.0, L=1.0, T=0.1, nx=401, dt=1e-4, bc0=0.0, bcL=0.0):\n",
        "\n",
        "    x = np.linspace(0, L, nx) # space discretization\n",
        "    dx = x[1] - x[0] # time increment\n",
        "    k = alpha * dt / dx**2\n",
        "    m = nx - 2\n",
        "\n",
        "    # Creating the triadiagonal matrices A, B\n",
        "\n",
        "    A = diags([(-k)*np.ones(m-1), (2+2*k)*np.ones(m), (-k)*np.ones(m-1)],\n",
        "              offsets=[-1, 0, 1], format=\"csc\")\n",
        "\n",
        "    B = diags([(k)*np.ones(m-1), (2-2*k)*np.ones(m), (k)*np.ones(m-1)],\n",
        "              offsets=[-1, 0, 1], format=\"csr\")\n",
        "\n",
        "    u = u0_func(x).astype(float) # intial condition\n",
        "    u[0], u[-1] = bc0, bcL\n",
        "    u_int = u[1:-1].copy() # creating vector that will store the interior nodes for which we will solve for\n",
        "    nt = int(np.ceil(T / dt)) # number of steps\n",
        "\n",
        "    b_edge = np.zeros(m)\n",
        "\n",
        "    # Directly setting the boundary values\n",
        "    b_edge[0]  = k * bc0\n",
        "    b_edge[-1] = k * bcL\n",
        "\n",
        "    # Solving the system per time step using the GMRES algorithm\n",
        "\n",
        "    for _ in range(nt):\n",
        "\n",
        "      rhs = B @ u_int + b_edge\n",
        "\n",
        "      u_int, _ = gmres(A, rhs, x0=u_int, restart=100,\n",
        "                          maxiter=1000, atol=1e-12)\n",
        "\n",
        "\n",
        "    # Writing the final values of the interior nodes\n",
        "    u[1:-1] = u_int\n",
        "\n",
        "    return x, u\n",
        "\n",
        "\n",
        "# 3) Library FD: py-pde\n",
        "def heat_py_pde(u0_func, alpha=1.0, L=1.0, T=0.1, nx=401, dt=None, bc0=0.0, bcL=0.0):\n",
        "\n",
        "    grid = CartesianGrid([[0.0, L]], [nx])\n",
        "    x = grid.axes_coords[0]\n",
        "    state = ScalarField(grid, data=u0_func(x))\n",
        "    eq = DiffusionPDE(diffusivity=alpha, bc={\"x-\": {\"value\": bc0}, \"x+\": {\"value\": bcL}})\n",
        "\n",
        "    dx = x[1] - x[0]\n",
        "    dt_max = 0.5 * dx * dx / alpha\n",
        "    dt_use = min(dt, 0.45*dt_max) if dt is not None else 0.45*dt_max\n",
        "\n",
        "    result = eq.solve(state, t_range=T, dt=dt_use)\n",
        "    return x, np.asarray(result.data)"
      ],
      "metadata": {
        "id": "2JuIz12x_2-j",
        "colab": {
          "base_uri": "https://localhost:8080/"
        },
        "outputId": "8dbb5c73-4c19-4aca-8044-879a3d9b0a94"
      },
      "execution_count": 4,
      "outputs": [
        {
          "output_type": "stream",
          "name": "stdout",
          "text": [
            "Requirement already satisfied: py-pde in /usr/local/lib/python3.12/dist-packages (0.46.0)\n",
            "Requirement already satisfied: matplotlib>=3.1 in /usr/local/lib/python3.12/dist-packages (from py-pde) (3.10.0)\n",
            "Requirement already satisfied: numba>=0.59 in /usr/local/lib/python3.12/dist-packages (from py-pde) (0.60.0)\n",
            "Requirement already satisfied: numpy>=1.22 in /usr/local/lib/python3.12/dist-packages (from py-pde) (2.0.2)\n",
            "Requirement already satisfied: scipy>=1.10 in /usr/local/lib/python3.12/dist-packages (from py-pde) (1.16.1)\n",
            "Requirement already satisfied: sympy>=1.9 in /usr/local/lib/python3.12/dist-packages (from py-pde) (1.13.3)\n",
            "Requirement already satisfied: tqdm>=4.66 in /usr/local/lib/python3.12/dist-packages (from py-pde) (4.67.1)\n",
            "Requirement already satisfied: contourpy>=1.0.1 in /usr/local/lib/python3.12/dist-packages (from matplotlib>=3.1->py-pde) (1.3.3)\n",
            "Requirement already satisfied: cycler>=0.10 in /usr/local/lib/python3.12/dist-packages (from matplotlib>=3.1->py-pde) (0.12.1)\n",
            "Requirement already satisfied: fonttools>=4.22.0 in /usr/local/lib/python3.12/dist-packages (from matplotlib>=3.1->py-pde) (4.59.2)\n",
            "Requirement already satisfied: kiwisolver>=1.3.1 in /usr/local/lib/python3.12/dist-packages (from matplotlib>=3.1->py-pde) (1.4.9)\n",
            "Requirement already satisfied: packaging>=20.0 in /usr/local/lib/python3.12/dist-packages (from matplotlib>=3.1->py-pde) (25.0)\n",
            "Requirement already satisfied: pillow>=8 in /usr/local/lib/python3.12/dist-packages (from matplotlib>=3.1->py-pde) (11.3.0)\n",
            "Requirement already satisfied: pyparsing>=2.3.1 in /usr/local/lib/python3.12/dist-packages (from matplotlib>=3.1->py-pde) (3.2.3)\n",
            "Requirement already satisfied: python-dateutil>=2.7 in /usr/local/lib/python3.12/dist-packages (from matplotlib>=3.1->py-pde) (2.9.0.post0)\n",
            "Requirement already satisfied: llvmlite<0.44,>=0.43.0dev0 in /usr/local/lib/python3.12/dist-packages (from numba>=0.59->py-pde) (0.43.0)\n",
            "Requirement already satisfied: mpmath<1.4,>=1.1.0 in /usr/local/lib/python3.12/dist-packages (from sympy>=1.9->py-pde) (1.3.0)\n",
            "Requirement already satisfied: six>=1.5 in /usr/local/lib/python3.12/dist-packages (from python-dateutil>=2.7->matplotlib>=3.1->py-pde) (1.17.0)\n"
          ]
        }
      ]
    },
    {
      "cell_type": "code",
      "source": [
        "L, alpha, T = 1.0, 1.0, 0.3\n",
        "u0 = lambda x: np.sin(np.pi * x / L)\n",
        "nx = 401\n",
        "xg = np.linspace(0, L, nx)\n",
        "dt = 5e-5\n",
        "\n",
        "# Compute solutions\n",
        "xa, ua = heat_analytic(u0, alpha=alpha, L=L, x=xg, t=T, N=300)\n",
        "\n",
        "xf, uf = heat1d_cn(u0, alpha=alpha, L=L, T=T, nx=nx, dt=dt, bc0=0.0, bcL=0.0)\n",
        "\n",
        "xl, ul = heat_py_pde(u0, alpha=alpha, L=L, T=T, nx=nx, dt=dt, bc0=0.0, bcL=0.0)"
      ],
      "metadata": {
        "colab": {
          "base_uri": "https://localhost:8080/",
          "height": 49,
          "referenced_widgets": [
            "51295d5d2e1242ad826fe1b50ac984cb",
            "75090acabf9b408da032a8877df7f3a1",
            "99db49aaa709406eb98b01cf524d0899",
            "4db860fb6937404f9a69c677f5f496b3",
            "3803f4f08d694e67bfbf5708e11f0744",
            "df755f5c0f7a41feac20a3441936b052",
            "159f274939db434685b7698669e0839a",
            "ebc7337230dc4568b63b016534abc1f4",
            "e6366e2df9b04223810656edeb3b05cd",
            "890f0e02f9544d83bb2a5ddd2c08ff2e",
            "46be8beb448246bcabbe13e75cb0c218"
          ]
        },
        "id": "iHM_UImwZ_i_",
        "outputId": "361db3ef-8140-434c-ce9d-fe4f78f99366"
      },
      "execution_count": 7,
      "outputs": [
        {
          "output_type": "display_data",
          "data": {
            "text/plain": [
              "  0%|          | 0/0.3 [00:00<?, ?it/s]"
            ],
            "application/vnd.jupyter.widget-view+json": {
              "version_major": 2,
              "version_minor": 0,
              "model_id": "51295d5d2e1242ad826fe1b50ac984cb"
            }
          },
          "metadata": {}
        }
      ]
    },
    {
      "cell_type": "code",
      "source": [
        "plt.figure()\n",
        "plt.plot(xa, ua, label=\"Analytic\")\n",
        "plt.plot(xf, uf, label=\"FD Crank–Nicolson\", linestyle=\"--\")\n",
        "plt.plot(xl, ul, label=\"py-pde explicit FD\", linestyle=\":\")\n",
        "plt.title(\"Heat equation: final solution at t = {:.3f}\".format(T))\n",
        "plt.xlabel(\"x\")\n",
        "plt.ylabel(\"u(x,T)\")\n",
        "plt.legend()\n",
        "plt.show()"
      ],
      "metadata": {
        "id": "7WnYJ2HiuniP",
        "colab": {
          "base_uri": "https://localhost:8080/",
          "height": 472
        },
        "outputId": "f108e7ac-ce38-4ffd-dc39-b47545de5920"
      },
      "execution_count": 8,
      "outputs": [
        {
          "output_type": "display_data",
          "data": {
            "text/plain": [
              "<Figure size 640x480 with 1 Axes>"
            ],
            "image/png": "[encoded data removed]"
          },
          "metadata": {}
        }
      ]
    },
    {
      "cell_type": "code",
      "source": [],
      "metadata": {
        "id": "F0EB-p_ZZ7dD"
      },
      "execution_count": null,
      "outputs": []
    }
  ]
}