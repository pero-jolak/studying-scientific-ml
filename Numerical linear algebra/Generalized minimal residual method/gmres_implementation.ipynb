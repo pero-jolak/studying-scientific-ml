{
  "nbformat": 4,
  "nbformat_minor": 0,
  "metadata": {
    "colab": {
      "provenance": []
    },
    "kernelspec": {
      "name": "python3",
      "display_name": "Python 3"
    },
    "language_info": {
      "name": "python"
    }
  },
  "cells": [
    {
      "cell_type": "markdown",
      "source": [
        "# GMRES from scratch"
      ],
      "metadata": {
        "id": "Ci8Oo6TIUyiO"
      }
    },
    {
      "cell_type": "code",
      "source": [
        "import numpy as np\n",
        "\n",
        "def gmres(A, b, x0, m=10, tol=1e-6, max_iter=100):\n",
        "\n",
        "    n = A.shape[0]\n",
        "\n",
        "    for iter_count in range(max_iter):\n",
        "        # STEP 1: INITIALIZATION\n",
        "        # Initial residual: r_0 = b - A x_0\n",
        "        r0 = b - np.dot(A, x0)\n",
        "\n",
        "        # Norm of initial residual: beta = ||r_0||_2\n",
        "        beta = np.linalg.norm(r0)\n",
        "\n",
        "        # Normalize the initial residual to get the first Krylov basis vector\n",
        "        # q_1 = r_0 / beta\n",
        "        q_vectors = np.zeros((n, m + 1))\n",
        "        q_vectors[:, 0] = r0 / beta\n",
        "\n",
        "        # Initialize the upper Hessenberg matrix H for the least-squares problem\n",
        "        H = np.zeros((m + 1, m))\n",
        "\n",
        "        # The right-hand side of the least-squares problem: beta * e_1\n",
        "        # e_1 is the first standard basis vector in R^(m+1)\n",
        "        e1 = np.zeros(m + 1)\n",
        "        e1[0] = 1.0\n",
        "        rhs = beta * e1\n",
        "\n",
        "        # STEP 2: ARNOLDI ITERATION (BUILDING THE ORTHONORMAL BASIS)\n",
        "        for j in range(m):\n",
        "            # Generate the next vector: v = A q_j\n",
        "            v = np.dot(A, q_vectors[:, j])\n",
        "\n",
        "            # Gram-Schmidt Orthogonalization\n",
        "            # Orthogonalize v against all previous q vectors (q_1 to q_j)\n",
        "            for i in range(j + 1):\n",
        "                # h_ij = q_i^T v\n",
        "                H[i, j] = np.dot(q_vectors[:, i], v)\n",
        "                # v = v - h_ij * q_i\n",
        "                v = v - H[i, j] * q_vectors[:, i]\n",
        "\n",
        "            # Normalize the new vector to get the next basis vector q_{j+1}\n",
        "            # h_{j+1, j} = ||v||_2\n",
        "            H[j + 1, j] = np.linalg.norm(v)\n",
        "\n",
        "            # Avoid division by zero if the subspace is invariant\n",
        "            if H[j + 1, j] < 1e-12: #the exact solution is found\n",
        "                m = j + 1\n",
        "                break\n",
        "\n",
        "            # q_{j+1} = v / h_{j+1, j}\n",
        "            q_vectors[:, j + 1] = v / H[j + 1, j]\n",
        "\n",
        "        # STEP 3: SOLVE THE LEAST-SQUARES PROBLEM\n",
        "\n",
        "        # The Arnoldi process gives us A @ Q_m = Q_{m+1} @ H_m\n",
        "        # We need to find y that minimizes ||beta * e_1 - H_m @ y||_2\n",
        "\n",
        "        # Truncate H\n",
        "        H_m = H[:m + 1, :m]\n",
        "\n",
        "        # Solve the small (m+1) x m least-squares problem\n",
        "        y_m, _, _, _ = np.linalg.lstsq(H_m, rhs, rcond=None)\n",
        "\n",
        "        # STEP 4: UPDATE THE SOLUTION\n",
        "        # First, get the basis for K_m (the first m vectors of Q)\n",
        "        # Q_m = q_vectors[:, :m]\n",
        "        Q_m = q_vectors[:, :m]\n",
        "\n",
        "        # Correction vector: deltax_m = Q_m @ y_m\n",
        "        deltax_m = Q_m @ y_m\n",
        "\n",
        "        # New solution: x_m = x_0 + z_m\n",
        "        x0 = x0 + deltax_m\n",
        "\n",
        "        # Check for convergence and prepare for next restart\n",
        "        # The residual norm ||b - Ax_m|| is conveniently ||H_m @ y - beta * e_1||\n",
        "        residual_norm = np.linalg.norm(H_m @ y_m - rhs)\n",
        "        print(f\"Iteration {iter_count+1}, Restart Cycle {m}, Residual Norm: {residual_norm:.6e}\")\n",
        "\n",
        "        if residual_norm < tol:\n",
        "            print(f\"Converged after {iter_count+1} outer iterations.\")\n",
        "            return x0, residual_norm\n",
        "\n",
        "    print(\"GMRES failed to converge within the maximum number of iterations.\")\n",
        "    return x0, residual_norm"
      ],
      "metadata": {
        "id": "uqz5tf9NLqdP"
      },
      "execution_count": 47,
      "outputs": []
    },
    {
      "cell_type": "code",
      "source": [
        "N = 100\n",
        "np.random.seed(0)\n",
        "A_rand = np.random.rand(N, N)\n",
        "A = A_rand + np.diag(np.full(N, 10.0))\n",
        "\n",
        "# Known solution\n",
        "x_true = np.arange(N)\n",
        "\n",
        "b = np.dot(A, x_true)\n",
        "\n",
        "x0_guess = np.zeros(N)\n",
        "tolerance = 1e-8\n",
        "\n",
        "m_restart = 20\n",
        "\n",
        "solution, final_residual = gmres(A, b, x0_guess, m=m_restart, tol=tolerance)\n",
        "\n",
        "error = np.linalg.norm(solution - x_true) / np.linalg.norm(x_true)\n",
        "print()\n",
        "\n",
        "print(f\"Final Residual Norm: {final_residual:.6e}\")\n",
        "print(f\"Relative Error in Solution: {error:.6e}\")"
      ],
      "metadata": {
        "colab": {
          "base_uri": "https://localhost:8080/"
        },
        "id": "chKWrvBaQtd3",
        "outputId": "e5d0496c-050b-4a43-e673-4d81a51e2a52"
      },
      "execution_count": 48,
      "outputs": [
        {
          "output_type": "stream",
          "name": "stdout",
          "text": [
            "Iteration 1, Restart Cycle 20, Residual Norm: 8.233172e-08\n",
            "Iteration 2, Restart Cycle 20, Residual Norm: 7.014367e-19\n",
            "Converged after 2 outer iterations.\n",
            "\n",
            "Final Residual Norm: 7.014367e-19\n",
            "Relative Error in Solution: 5.668363e-16\n"
          ]
        }
      ]
    },
    {
      "cell_type": "markdown",
      "source": [
        "# GMRES in SciPy"
      ],
      "metadata": {
        "id": "WVq0RaEnUeN-"
      }
    },
    {
      "cell_type": "code",
      "source": [
        "from scipy.sparse.linalg import gmres as sp_gmres\n",
        "\n",
        "scipy_solution, _ = sp_gmres(A, b, x0=x0_guess, atol=tolerance, restart=m_restart)"
      ],
      "metadata": {
        "id": "YZ4vEgyOQvWr"
      },
      "execution_count": 44,
      "outputs": []
    },
    {
      "cell_type": "code",
      "source": [
        "scipy_solution"
      ],
      "metadata": {
        "colab": {
          "base_uri": "https://localhost:8080/"
        },
        "id": "XZjcKOhkRnzh",
        "outputId": "923f7896-0cbb-4caa-e20c-6c5bfb33a69d"
      },
      "execution_count": 46,
      "outputs": [
        {
          "output_type": "execute_result",
          "data": {
            "text/plain": [
              "array([1.66009705e-03, 9.98771389e-01, 2.00007155e+00, 3.00096251e+00,\n",
              "       3.99941380e+00, 5.00050600e+00, 6.00073363e+00, 6.99868246e+00,\n",
              "       7.99969566e+00, 8.99819499e+00, 1.00009991e+01, 1.09991457e+01,\n",
              "       1.19993304e+01, 1.30014569e+01, 1.40011207e+01, 1.50026509e+01,\n",
              "       1.60000016e+01, 1.70021734e+01, 1.79992596e+01, 1.90000674e+01,\n",
              "       2.00010547e+01, 2.09982784e+01, 2.20013979e+01, 2.29987073e+01,\n",
              "       2.40007510e+01, 2.50018323e+01, 2.60006197e+01, 2.70016449e+01,\n",
              "       2.79998293e+01, 2.90004925e+01, 2.99987516e+01, 3.10007375e+01,\n",
              "       3.19990582e+01, 3.29994651e+01, 3.39991342e+01, 3.49985255e+01,\n",
              "       3.60011310e+01, 3.69998776e+01, 3.80000417e+01, 3.90012118e+01,\n",
              "       3.99990560e+01, 4.10002645e+01, 4.19980618e+01, 4.29984735e+01,\n",
              "       4.39967427e+01, 4.49983189e+01, 4.59976786e+01, 4.70008110e+01,\n",
              "       4.80017881e+01, 4.89997823e+01, 4.99987770e+01, 5.09997332e+01,\n",
              "       5.19989833e+01, 5.30009842e+01, 5.40002332e+01, 5.50016333e+01,\n",
              "       5.59992491e+01, 5.70023183e+01, 5.79999494e+01, 5.90001504e+01,\n",
              "       5.99991881e+01, 6.09999838e+01, 6.19984779e+01, 6.30018987e+01,\n",
              "       6.39990243e+01, 6.49989085e+01, 6.60010459e+01, 6.70005065e+01,\n",
              "       6.80002000e+01, 6.90011037e+01, 6.99992823e+01, 7.09994575e+01,\n",
              "       7.19987785e+01, 7.30005069e+01, 7.40015346e+01, 7.50001449e+01,\n",
              "       7.60014371e+01, 7.70003612e+01, 7.80002098e+01, 7.89994298e+01,\n",
              "       8.00026491e+01, 8.09975321e+01, 8.20007530e+01, 8.29997474e+01,\n",
              "       8.40017922e+01, 8.49993481e+01, 8.60001144e+01, 8.69997471e+01,\n",
              "       8.79978815e+01, 8.90018655e+01, 9.00004939e+01, 9.10008952e+01,\n",
              "       9.20010868e+01, 9.29965712e+01, 9.40003585e+01, 9.50001264e+01,\n",
              "       9.59996124e+01, 9.70006038e+01, 9.79975748e+01, 9.89996277e+01])"
            ]
          },
          "metadata": {},
          "execution_count": 46
        }
      ]
    },
    {
      "cell_type": "code",
      "source": [],
      "metadata": {
        "id": "U11BdnmHSbA-"
      },
      "execution_count": null,
      "outputs": []
    }
  ]
}