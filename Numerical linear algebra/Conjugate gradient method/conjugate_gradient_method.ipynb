{
  "nbformat": 4,
  "nbformat_minor": 0,
  "metadata": {
    "colab": {
      "provenance": []
    },
    "kernelspec": {
      "name": "python3",
      "display_name": "Python 3"
    },
    "language_info": {
      "name": "python"
    }
  },
  "cells": [
    {
      "cell_type": "code",
      "execution_count": 17,
      "metadata": {
        "id": "QOdgZKPyIN1v"
      },
      "outputs": [],
      "source": [
        "import numpy as np\n",
        "from numpy.linalg import norm\n",
        "from scipy.sparse.linalg import cg as sp_cg\n",
        "\n",
        "def cg_basic(A, b, x0=None, rtol=1e-8, atol=0.0, maxiter=None, callback=None):\n",
        "    A = np.asarray(A, float)\n",
        "    n = A.shape[0]\n",
        "    x = np.zeros(n) if x0 is None else np.asarray(x0, float).copy()\n",
        "\n",
        "    b_norm = norm(b)\n",
        "    tol = max(rtol * b_norm, atol)\n",
        "    r = b - A @ x\n",
        "    p = r.copy()\n",
        "    rr_old = float(r @ r)\n",
        "    res_hist = [np.sqrt(rr_old)]\n",
        "    if maxiter is None:\n",
        "        maxiter = 5 * n\n",
        "\n",
        "    for k in range(1, maxiter + 1):\n",
        "        Ap = A @ p\n",
        "        alpha = rr_old / float(p @ Ap)\n",
        "        x += alpha * p\n",
        "        r -= alpha * Ap\n",
        "        rr_new = float(r @ r)\n",
        "        res = np.sqrt(rr_new)\n",
        "        res_hist.append(res)\n",
        "        if callback is not None:\n",
        "            callback(x)\n",
        "        if res <= tol:\n",
        "            return x, 0, res_hist\n",
        "        beta = rr_new / rr_old\n",
        "        p = r + beta * p\n",
        "        rr_old = rr_new\n",
        "\n",
        "    return x, k, res_hist"
      ]
    },
    {
      "cell_type": "code",
      "source": [
        "rng = np.random.default_rng(0)\n",
        "n = 200\n",
        "Q = rng.standard_normal((n, n))\n",
        "A = Q.T @ Q + 1e-3 * np.eye(n)  # SPD\n",
        "x_true = rng.standard_normal(n)\n",
        "b = A @ x_true"
      ],
      "metadata": {
        "id": "4QpV7UrsNjib"
      },
      "execution_count": 18,
      "outputs": []
    },
    {
      "cell_type": "code",
      "source": [
        "x_cg, info_cg, hist = cg_basic(A, b, rtol=1e-8, atol=0.0, maxiter=5000)\n",
        "\n",
        "res_hist_sp = []\n",
        "def cb(xk):\n",
        "    res_hist_sp.append(norm(b - A @ xk))\n",
        "\n",
        "x_sp, info_sp = sp_cg(A, b, rtol=1e-8, atol=0.0, maxiter=5000, callback=cb)\n",
        "\n",
        "print(\"basic CG: info=\", info_cg, \"iters≈\", len(hist)-1,\n",
        "      \"final ||r||=\", hist[-1], \"rel err=\", norm(x_cg - x_true)/norm(x_true))\n",
        "print(\"SciPy  CG: info=\", info_sp, \"iters≈\", len(res_hist_sp),\n",
        "      \"final ||r||=\", (res_hist_sp[-1] if res_hist_sp else norm(b - A @ x_sp)),\n",
        "      \"rel err=\", norm(x_sp - x_true)/norm(x_true))\n",
        "print(\"Solutions close? \", np.allclose(x_cg, x_sp, rtol=1e-6, atol=1e-10))"
      ],
      "metadata": {
        "colab": {
          "base_uri": "https://localhost:8080/"
        },
        "id": "NIzyFONyMP_B",
        "outputId": "83f68bd5-0a45-41ae-e8a7-62dac70d72a8"
      },
      "execution_count": 19,
      "outputs": [
        {
          "output_type": "stream",
          "name": "stdout",
          "text": [
            "basic CG: info= 0 iters≈ 326 final ||r||= 1.608903536384652e-05 rel err= 4.478405910942444e-09\n",
            "SciPy  CG: info= 0 iters≈ 326 final ||r||= 1.6089035545558882e-05 rel err= 4.478405910942444e-09\n",
            "Solutions close?  True\n"
          ]
        }
      ]
    },
    {
      "cell_type": "code",
      "source": [],
      "metadata": {
        "id": "HwtpcsAqNoqk"
      },
      "execution_count": null,
      "outputs": []
    }
  ]
}